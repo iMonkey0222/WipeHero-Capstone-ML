{
 "cells": [
  {
   "cell_type": "code",
   "execution_count": 7,
   "metadata": {
    "collapsed": true
   },
   "outputs": [],
   "source": [
    "import csv\n",
    "import numpy as np\n",
    "import h5py\n",
    "import urllib\n",
    "import cv2"
   ]
  },
  {
   "cell_type": "markdown",
   "metadata": {},
   "source": [
    "### Convert image read from url in csv file to numpy array\n",
    "1. Get image from reading url from csv file\n",
    "2. Resize image\n",
    "3. Convert image to numpy array with shape: (1, IMSIZE*IMSIZE*3)"
   ]
  },
  {
   "cell_type": "code",
   "execution_count": 12,
   "metadata": {
    "collapsed": true
   },
   "outputs": [],
   "source": [
    "# use OpenCV, NumPy, and urllib\n",
    "def url_to_image(url):\n",
    "    # download the image, convert it to a NumPy array, and then read\n",
    "    # it into OpenCV format\n",
    "    resp = urllib.urlopen(url)\n",
    "    image = np.asarray(bytearray(resp.read()), dtype=\"uint8\")\n",
    "    image = cv2.imdecode(image, cv2.IMREAD_COLOR)\n",
    "    return image"
   ]
  },
  {
   "cell_type": "code",
   "execution_count": 13,
   "metadata": {
    "collapsed": true
   },
   "outputs": [],
   "source": [
    "IMSIZE = 128   # 32 or 64 or 128 or 256\n",
    "\n",
    "def resize_image(image):\n",
    "    #print \"resizing images\"\n",
    "    resized_image = cv2.resize(image, (IMSIZE, IMSIZE))\n",
    "    return resized_image"
   ]
  },
  {
   "cell_type": "code",
   "execution_count": 14,
   "metadata": {
    "collapsed": true
   },
   "outputs": [],
   "source": [
    "def image_to_array(image):\n",
    "    array = np.asarray(image)\n",
    "    dimension = IMSIZE*IMSIZE*3\n",
    "    return array.reshape(1, dimension)"
   ]
  },
  {
   "cell_type": "markdown",
   "metadata": {},
   "source": [
    "### This for test: Test 3 examples, concatenate the results"
   ]
  },
  {
   "cell_type": "code",
   "execution_count": 5,
   "metadata": {},
   "outputs": [
    {
     "name": "stdout",
     "output_type": "stream",
     "text": [
      "downloading https://tookan.s3.amazonaws.com/task_images/xaOq1502152810748-TOOKAN08082017104003.jpg\n",
      "resizing images\n",
      "(1, 49152)\n",
      "('image matrix: ', array([[121, 108, 107, ...,  41,  31,  34]], dtype=uint8))\n",
      "length is 0\n",
      "[[121 108 107 ...,  41  31  34]]\n",
      "downloading https://tookan.s3.amazonaws.com/task_images/jfVf1502174230389-photoName.jpeg\n",
      "resizing images\n",
      "(1, 49152)\n",
      "('image matrix: ', array([[81, 89, 88, ..., 27, 24, 33]], dtype=uint8))\n",
      "downloading https://tookan.s3.amazonaws.com/task_images/0T1r1502174379338-photoName.jpeg\n",
      "resizing images\n",
      "(1, 49152)\n",
      "('image matrix: ', array([[209, 220, 234, ...,  40,  46,  53]], dtype=uint8))\n"
     ]
    }
   ],
   "source": [
    "# This is for Test\n",
    "# first 3 rows of data\n",
    "with open('../outside_front_4000.csv', 'rU') as f:\n",
    "    readCSV = csv.reader(f, delimiter=',')\n",
    "    imageNet_array = []\n",
    "    \n",
    "    i =0\n",
    "    for row in readCSV:\n",
    "        # Try 20 samples\n",
    "        if i<=2:\n",
    "            label = row[0]\n",
    "            imageURL = row[1]\n",
    "            i = i+1\n",
    "            print \"downloading %s\" % (imageURL)\n",
    "            image = url_to_image(imageURL)\n",
    "            \n",
    "            print \"resizing images\"\n",
    "            resized_image = resize_image(image)\n",
    "            #cv2.imshow(\"resizedImage\", resized_image)       \n",
    "\n",
    "            img_array = image_to_array(resized_image)\n",
    "            print(img_array.shape)\n",
    "            print(\"image matrix: \", img_array)\n",
    "\n",
    "            if len(imageNet_array) == 0:\n",
    "                imageNet_array = img_array\n",
    "                print(\"length is 0\")\n",
    "                print(imageNet_array)\n",
    "            else:\n",
    "                imageNet_array = np.concatenate([imageNet_array, img_array])"
   ]
  },
  {
   "cell_type": "code",
   "execution_count": 6,
   "metadata": {},
   "outputs": [
    {
     "name": "stdout",
     "output_type": "stream",
     "text": [
      "result:\n",
      "[[121 108 107 ...,  41  31  34]\n",
      " [ 81  89  88 ...,  27  24  33]\n",
      " [209 220 234 ...,  40  46  53]]\n",
      "shape:\n",
      "(3, 49152)\n"
     ]
    }
   ],
   "source": [
    "print(\"result:\") \n",
    "print(imageNet_array)\n",
    "print(\"shape:\")          \n",
    "print(imageNet_array.shape)"
   ]
  },
  {
   "cell_type": "code",
   "execution_count": 7,
   "metadata": {},
   "outputs": [
    {
     "name": "stdout",
     "output_type": "stream",
     "text": [
      "(3, 49152)\n",
      "[[ True  True  True ...,  True  True  True]\n",
      " [ True  True  True ...,  True  True  True]\n",
      " [ True  True  True ...,  True  True  True]]\n"
     ]
    }
   ],
   "source": [
    "# Save numpy array as .npy file \n",
    "# Number of Rows: the number of images (nx of training set)\n",
    "# Number of Columns: features of an image    \n",
    "np.save('testfile.npy', imageNet_array)\n",
    "d = np.load('testfile.npy')\n",
    "print(d.shape)\n",
    "print(imageNet_array == d)"
   ]
  },
  {
   "cell_type": "markdown",
   "metadata": {},
   "source": [
    "### This is convert 1000 fontside image to arrayNets\n",
    "**imageNet_array: Concatenated result of 1000 images **"
   ]
  },
  {
   "cell_type": "code",
   "execution_count": 22,
   "metadata": {},
   "outputs": [
    {
     "name": "stdout",
     "output_type": "stream",
     "text": [
      "Start processing\n",
      "start converting\n",
      "length is 0\n",
      "[[121 108 107 ...,  41  31  34]]\n",
      "Processing the 100th image.\n",
      "image matrix: [[233 225 225 ...,  55  51  49]]\n",
      "Processing the 200th image.\n",
      "image matrix: [[197 198 194 ...,  97 107 114]]\n",
      "Processing the 300th image.\n",
      "image matrix: [[155 162 181 ..., 126 133 136]]\n",
      "Processing the 400th image.\n",
      "image matrix: [[255 255 255 ...,  62  52  45]]\n",
      "Processing the 500th image.\n",
      "image matrix: [[239 231 232 ...,   8   6  24]]\n",
      "Processing the 600th image.\n",
      "image matrix: [[176 162 150 ...,  17  12  13]]\n",
      "Processing the 700th image.\n",
      "image matrix: [[ 19 213 253 ..., 137 157 163]]\n",
      "Processing the 800th image.\n",
      "image matrix: [[164 136 135 ...,  15  29  35]]\n",
      "Processing the 900th image.\n",
      "image matrix: [[221 226 225 ...,  57  41  35]]\n",
      "Processing the 1000th image.\n",
      "image matrix: [[ 42  66  72 ...,  87  93 100]]\n",
      "Complete processing:\n",
      "2624.05435991\n"
     ]
    }
   ],
   "source": [
    "import time\n",
    "\n",
    "start = time.time()\n",
    "print(\"Start processing\")\n",
    "\n",
    "with open('../outside_front_4000.csv', 'rU') as f:\n",
    "    readCSV = csv.reader(f, delimiter=',')\n",
    "    imageNet_array = []\n",
    "\n",
    "    print(\"start converting\")\n",
    "    i = 0\n",
    "    for row in readCSV:\n",
    "        #label = row[0]\n",
    "        imageURL = row[1]\n",
    "        i = i+1\n",
    "#        print \"downloading %s\" % (imageURL)\n",
    "        image = url_to_image(imageURL)\n",
    "            \n",
    "#        print \"resizing images\"\n",
    "        resized_image = resize_image(image)\n",
    "\n",
    "        img_array = image_to_array(resized_image)\n",
    "#        print(img_array.shape)\n",
    "        if i % 100 == 0:\n",
    "            print(\"Processing the \"+str(i)+\"th image.\")\n",
    "            print(\"image matrix: \" + str(img_array))\n",
    "\n",
    "        if len(imageNet_array) == 0:\n",
    "            imageNet_array = img_array\n",
    "            print(\"length is 0\")\n",
    "            print(imageNet_array)\n",
    "        else:\n",
    "            imageNet_array = np.concatenate([imageNet_array, img_array])\n",
    "            \n",
    "end = time.time()\n",
    "print(\"Complete processing:\")\n",
    "print(end - start)"
   ]
  },
  {
   "cell_type": "markdown",
   "metadata": {},
   "source": [
    "**Method1: Save result to binary file .npy **"
   ]
  },
  {
   "cell_type": "code",
   "execution_count": 23,
   "metadata": {},
   "outputs": [
    {
     "name": "stdout",
     "output_type": "stream",
     "text": [
      "result:\n",
      "[[121 108 107 ...,  41  31  34]\n",
      " [ 81  89  88 ...,  27  24  33]\n",
      " [209 220 234 ...,  40  46  53]\n",
      " ..., \n",
      " [ 19  15  40 ...,  27  40  56]\n",
      " [110 113 117 ...,  90  96 103]\n",
      " [ 42  66  72 ...,  87  93 100]]\n",
      "shape:\n",
      "(1000, 49152)\n"
     ]
    }
   ],
   "source": [
    "print(\"result:\") \n",
    "print(imageNet_array)\n",
    "print(\"shape:\")          \n",
    "print(imageNet_array.shape)"
   ]
  },
  {
   "cell_type": "code",
   "execution_count": 24,
   "metadata": {},
   "outputs": [
    {
     "name": "stdout",
     "output_type": "stream",
     "text": [
      "(1000, 49152)\n",
      "[[ True  True  True ...,  True  True  True]\n",
      " [ True  True  True ...,  True  True  True]\n",
      " [ True  True  True ...,  True  True  True]\n",
      " ..., \n",
      " [ True  True  True ...,  True  True  True]\n",
      " [ True  True  True ...,  True  True  True]\n",
      " [ True  True  True ...,  True  True  True]]\n"
     ]
    }
   ],
   "source": [
    "# Save numpy array as .npy file \n",
    "# Number of Rows: the number of images (nx of training set)\n",
    "# Number of Columns: features of an image    \n",
    "np.save('1000_image.npy', imageNet_array)\n",
    "d = np.load('1000_image.npy')\n",
    "print(d.shape)\n",
    "print(imageNet_array == d)"
   ]
  },
  {
   "cell_type": "markdown",
   "metadata": {},
   "source": [
    "### Method2: Save result to h5py fromat"
   ]
  },
  {
   "cell_type": "code",
   "execution_count": 37,
   "metadata": {},
   "outputs": [
    {
     "name": "stdout",
     "output_type": "stream",
     "text": [
      "3.09944152832e-05\n"
     ]
    }
   ],
   "source": [
    "from timeit import default_timer as timer\n",
    "\n",
    "start = timer()\n",
    "\n",
    "end = timer()\n",
    "print(end - start)     "
   ]
  },
  {
   "cell_type": "code",
   "execution_count": 43,
   "metadata": {},
   "outputs": [],
   "source": [
    "import h5py\n",
    "\n",
    "hf = h5py.File('data.h5','w')\n",
    "#hf.create_dataset('front_1000', data = imageNet_array)\n",
    "hf.create_dataset('front_1000', data = imageNet_array, compression=\"gzip\", compression_opts=9) # can compress the data\n",
    "\n",
    "hf.close()"
   ]
  },
  {
   "cell_type": "markdown",
   "metadata": {},
   "source": [
    "##### Reading HDF5 files"
   ]
  },
  {
   "cell_type": "code",
   "execution_count": 44,
   "metadata": {
    "collapsed": true
   },
   "outputs": [],
   "source": [
    "h5f = h5py.File('data.h5','r')\n",
    "data = h5f['front_1000'][:]\n",
    "\n",
    "h5f.close()"
   ]
  },
  {
   "cell_type": "code",
   "execution_count": 45,
   "metadata": {},
   "outputs": [
    {
     "data": {
      "text/plain": [
       "True"
      ]
     },
     "execution_count": 45,
     "metadata": {},
     "output_type": "execute_result"
    }
   ],
   "source": [
    "np.allclose(imageNet_array,data)"
   ]
  },
  {
   "cell_type": "code",
   "execution_count": 46,
   "metadata": {},
   "outputs": [
    {
     "name": "stdout",
     "output_type": "stream",
     "text": [
      "[[121 108 107 ...,  41  31  34]\n",
      " [ 81  89  88 ...,  27  24  33]\n",
      " [209 220 234 ...,  40  46  53]\n",
      " ..., \n",
      " [ 19  15  40 ...,  27  40  56]\n",
      " [110 113 117 ...,  90  96 103]\n",
      " [ 42  66  72 ...,  87  93 100]]\n"
     ]
    }
   ],
   "source": [
    "print(data)"
   ]
  },
  {
   "cell_type": "code",
   "execution_count": null,
   "metadata": {
    "collapsed": true
   },
   "outputs": [],
   "source": []
  }
 ],
 "metadata": {
  "kernelspec": {
   "display_name": "Python 3",
   "language": "python",
   "name": "python3"
  },
  "language_info": {
   "codemirror_mode": {
    "name": "ipython",
    "version": 2
   },
   "file_extension": ".py",
   "mimetype": "text/x-python",
   "name": "python",
   "nbconvert_exporter": "python",
   "pygments_lexer": "ipython2",
   "version": "2.7.13"
  }
 },
 "nbformat": 4,
 "nbformat_minor": 2
}
