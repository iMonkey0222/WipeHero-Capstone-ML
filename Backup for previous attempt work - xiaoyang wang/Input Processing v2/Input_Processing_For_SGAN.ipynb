{
 "cells": [
  {
   "cell_type": "markdown",
   "metadata": {},
   "source": [
    "# Convert image read from url in csv file to ImageNet Version 2\n",
    "** This file intended to process and transform the filtered input csv file into a formal input for Machine Learning. **\n",
    "- Apply different method to process image: **Scipy, Scikit-image, PIL**\n",
    "    1. Get image from reading url from csv file\n",
    "    2. Resize image\n",
    "    3. Convert image to numpy array with shape: (1, IMSIZE, IMSIZE, 3)"
   ]
  },
  {
   "cell_type": "markdown",
   "metadata": {},
   "source": [
    "### 1 - Packages\n",
    "- [numpy](www.numpy.org) is the main package for scientific computing with Python.\n",
    "- [matplotlib](http://matplotlib.org) is a library to plot graphs in Python.\n",
    "- [h5py](http://www.h5py.org) is a common package to interact with a dataset that is stored on an H5 file.\n",
    "- [cv2](http://opencv.org/) OpenCV is a library of programming functions mainly aimed at real-time computer vision. "
   ]
  },
  {
   "cell_type": "code",
   "execution_count": 2,
   "metadata": {
    "collapsed": true
   },
   "outputs": [],
   "source": [
    "import csv\n",
    "import numpy as np\n",
    "import h5py\n",
    "#import urllib\n",
    "#import cv2"
   ]
  },
  {
   "cell_type": "code",
   "execution_count": 3,
   "metadata": {
    "collapsed": true
   },
   "outputs": [],
   "source": [
    "# METHOD #2: scikit-image\n",
    "import scipy\n",
    "from PIL import Image\n",
    "from skimage import io\n",
    "from scipy import ndimage\n",
    "import matplotlib.pyplot as plt"
   ]
  },
  {
   "cell_type": "code",
   "execution_count": null,
   "metadata": {
    "collapsed": true
   },
   "outputs": [],
   "source": [
    "urls = [\n",
    "   'https://tookan.s3.amazonaws.com/task_images/G0gC1486365254968-TOOKAN06022017061412.jpg',\n",
    "   'https://tookan.s3.amazonaws.com/task_images/rQZD1486365263088-TOOKAN06022017061420.jpg',\n",
    "   'https://tookan.s3.amazonaws.com/task_images/B7JB1486365339438-TOOKAN06022017061537.jpg',\n",
    "]\n"
   ]
  },
  {
   "cell_type": "code",
   "execution_count": null,
   "metadata": {
    "collapsed": true
   },
   "outputs": [],
   "source": [
    "# loop over the image URLs\n",
    "for url in urls:\n",
    "    # download the image using scikit-image\n",
    "    print \"downloading %s\" % (url)\n",
    "    image = io.imread(url)\n",
    "    \n",
    "    plt.imshow(image)\n",
    "    plt.show()\n",
    "    \n",
    "    #image = np.array(ndimage.imread(fname, flatten=False))\n",
    "    #my_image = scipy.misc.imresize(image, size=(64,64)).reshape((1, 64*64*3)).T\n",
    "    my_image = scipy.misc.imresize(image, size=(128,128))\n",
    "    plt.imshow(my_image)\n",
    "    plt.show()"
   ]
  },
  {
   "cell_type": "markdown",
   "metadata": {},
   "source": [
    "## Convert Function"
   ]
  },
  {
   "cell_type": "code",
   "execution_count": 4,
   "metadata": {
    "collapsed": true
   },
   "outputs": [],
   "source": [
    "import timeit\n",
    "\n",
    "img_width = 64\n",
    "img_height = 64\n",
    "\n",
    "def file_to_imageArray(filename, end_idx):\n",
    "    start_time = timeit.default_timer()\n",
    "    \n",
    "    with open('../images/' + str(filename), 'rU') as f:\n",
    "        readCSV = csv.reader(f, delimiter=',')\n",
    "        interestingrows = [row for idx, row in enumerate(readCSV) if idx in list(range(0,end_idx))]\n",
    "    \n",
    "        images_array = [] # store final result\n",
    "        y = []            # store label result\n",
    "\n",
    "        i = 0\n",
    "        print(\"Start Processing\")\n",
    "        \n",
    "        for row in interestingrows: #for row in readCSV:\n",
    "            label = row[2]\t\t# class label 0 or 1\n",
    "            imageURL = row[1]\t# image url\n",
    "            i = i+1\n",
    "            image = io.imread(imageURL)  # read image from url\n",
    "            # resize and reshape to: (1, image_height, image_width, image_depth)\n",
    "            img_array = scipy.misc.imresize(image, size=(img_width,img_height)).reshape((1, img_width, img_height, 3 ))\n",
    "\n",
    "            if i % 50 == 0:\n",
    "                print(\"Processed the \"+str(i)+\"th image.\")\n",
    "\n",
    "            # Add label to list\n",
    "            y.append(label)\n",
    "\n",
    "            # Add img_array to result by Concatenating image_array to images_array\n",
    "            if len(images_array) == 0:\n",
    "                images_array = img_array\n",
    "            else:\n",
    "                images_array = np.concatenate([images_array, img_array])\n",
    "            \n",
    "    elapsed = timeit.default_timer() - start_time\n",
    "    print(\"Complete processing:\")\n",
    "    print(str(elapsed/(60*60)) + \"hr\")\n",
    "    return [images_array, np.array(y)]"
   ]
  },
  {
   "cell_type": "markdown",
   "metadata": {},
   "source": [
    "#### Convert 50 Outside Font  image to imageNets\n",
    "**imageNet_array: Concatenated result of 50 images **\n",
    "- 50 data with label 0 (normal data)\n",
    "- 50 data with label 1 (outlier data)\n"
   ]
  },
  {
   "cell_type": "code",
   "execution_count": 5,
   "metadata": {},
   "outputs": [
    {
     "name": "stdout",
     "output_type": "stream",
     "text": [
      "Start Processing\n",
      "Processed the 50th image.\n",
      "Complete processing:\n",
      "0.0443932836586hr\n"
     ]
    }
   ],
   "source": [
    "outside_front_50 = file_to_imageArray('outside_front_50.csv', 50)"
   ]
  },
  {
   "cell_type": "code",
   "execution_count": 6,
   "metadata": {},
   "outputs": [
    {
     "name": "stdout",
     "output_type": "stream",
     "text": [
      "X shape:(50, 64, 64, 3)\n",
      "Y shape(50,)\n"
     ]
    }
   ],
   "source": [
    "outside_front_X = outside_front_50[0]\n",
    "outside_front_Y = outside_front_50[1]\n",
    "print(\"X shape:\" + str(outside_front_X.shape))\n",
    "print(\"Y shape:\" + str(outside_front_Y.shape))"
   ]
  },
  {
   "cell_type": "markdown",
   "metadata": {},
   "source": [
    "#### Save to h5py file under group \"outside_front_50\""
   ]
  },
  {
   "cell_type": "code",
   "execution_count": 23,
   "metadata": {},
   "outputs": [],
   "source": [
    "f = h5py.File('data.h5','w')\n",
    "#f = h5py.File('data.h5','r+')\n",
    "group=f.create_group('outside_front_50')\n",
    "group.create_dataset('X', data = outside_front_X)    # could add ‘compression=\"gzip\", compression_opts=9’ to compress\n",
    "group.create_dataset('Y', data = outside_front_Y)\n",
    "f.close()"
   ]
  },
  {
   "cell_type": "code",
   "execution_count": 24,
   "metadata": {},
   "outputs": [],
   "source": [
    "f = h5py.File('data.h5','r')\n",
    "group = f['outside_front_50']\n",
    "X = group['X'][:]\n",
    "Y = group['Y'][:]\n",
    "f.close()"
   ]
  },
  {
   "cell_type": "code",
   "execution_count": 10,
   "metadata": {},
   "outputs": [
    {
     "name": "stdout",
     "output_type": "stream",
     "text": [
      "((50, 64, 64, 3), (50,))\n"
     ]
    }
   ],
   "source": [
    "print(X.shape, Y.shape)"
   ]
  },
  {
   "cell_type": "code",
   "execution_count": 12,
   "metadata": {},
   "outputs": [
    {
     "name": "stdout",
     "output_type": "stream",
     "text": [
      "Start Processing\n",
      "Processed the 50th image.\n",
      "Processed the 100th image.\n",
      "Processed the 150th image.\n",
      "Processed the 200th image.\n",
      "Processed the 250th image.\n",
      "Processed the 300th image.\n",
      "Processed the 350th image.\n",
      "Processed the 400th image.\n",
      "Processed the 450th image.\n",
      "Processed the 500th image.\n",
      "Processed the 550th image.\n",
      "Processed the 600th image.\n",
      "Processed the 650th image.\n",
      "Processed the 700th image.\n",
      "Processed the 750th image.\n",
      "Processed the 800th image.\n",
      "Processed the 850th image.\n",
      "Processed the 900th image.\n",
      "Processed the 950th image.\n",
      "Processed the 1000th image.\n",
      "Processed the 1050th image.\n",
      "Processed the 1100th image.\n",
      "Processed the 1150th image.\n",
      "Processed the 1200th image.\n",
      "Processed the 1250th image.\n",
      "Processed the 1300th image.\n",
      "Processed the 1350th image.\n",
      "Processed the 1400th image.\n",
      "Processed the 1450th image.\n",
      "Processed the 1500th image.\n",
      "Processed the 1550th image.\n",
      "Processed the 1600th image.\n",
      "Processed the 1650th image.\n",
      "Processed the 1700th image.\n",
      "Processed the 1750th image.\n",
      "Processed the 1800th image.\n",
      "Processed the 1850th image.\n",
      "Processed the 1900th image.\n",
      "Processed the 1950th image.\n",
      "Processed the 2000th image.\n",
      "Processed the 2050th image.\n",
      "Processed the 2100th image.\n",
      "Processed the 2150th image.\n",
      "Processed the 2200th image.\n",
      "Processed the 2250th image.\n",
      "Processed the 2300th image.\n",
      "Processed the 2350th image.\n",
      "Processed the 2400th image.\n",
      "Processed the 2450th image.\n",
      "Processed the 2500th image.\n",
      "Processed the 2550th image.\n",
      "Processed the 2600th image.\n",
      "Processed the 2650th image.\n",
      "Processed the 2700th image.\n",
      "Processed the 2750th image.\n",
      "Processed the 2800th image.\n",
      "Processed the 2850th image.\n",
      "Processed the 2900th image.\n",
      "Processed the 2950th image.\n",
      "Processed the 3000th image.\n",
      "Processed the 3050th image.\n",
      "Processed the 3100th image.\n",
      "Processed the 3150th image.\n",
      "Processed the 3200th image.\n",
      "Processed the 3250th image.\n",
      "Processed the 3300th image.\n",
      "Processed the 3350th image.\n",
      "Processed the 3400th image.\n",
      "Processed the 3450th image.\n",
      "Processed the 3500th image.\n",
      "Processed the 3550th image.\n",
      "Processed the 3600th image.\n",
      "Processed the 3650th image.\n",
      "Processed the 3700th image.\n",
      "Processed the 3750th image.\n",
      "Processed the 3800th image.\n",
      "Processed the 3850th image.\n",
      "Processed the 3900th image.\n",
      "Processed the 3950th image.\n",
      "Processed the 4000th image.\n",
      "Processed the 4050th image.\n",
      "Processed the 4100th image.\n",
      "Processed the 4150th image.\n",
      "Processed the 4200th image.\n",
      "Processed the 4250th image.\n",
      "Processed the 4300th image.\n",
      "Processed the 4350th image.\n",
      "Processed the 4400th image.\n",
      "Processed the 4450th image.\n",
      "Processed the 4500th image.\n",
      "Processed the 4550th image.\n",
      "Processed the 4600th image.\n",
      "Processed the 4650th image.\n",
      "Processed the 4700th image.\n",
      "Processed the 4750th image.\n",
      "Processed the 4800th image.\n",
      "Processed the 4850th image.\n",
      "Processed the 4900th image.\n",
      "Processed the 4950th image.\n",
      "Processed the 5000th image.\n",
      "Processed the 5050th image.\n",
      "Processed the 5100th image.\n",
      "Processed the 5150th image.\n",
      "Processed the 5200th image.\n",
      "Processed the 5250th image.\n",
      "Processed the 5300th image.\n",
      "Processed the 5350th image.\n",
      "Processed the 5400th image.\n",
      "Processed the 5450th image.\n",
      "Processed the 5500th image.\n",
      "Processed the 5550th image.\n",
      "Processed the 5600th image.\n",
      "Processed the 5650th image.\n",
      "Processed the 5700th image.\n",
      "Processed the 5750th image.\n",
      "Processed the 5800th image.\n",
      "Processed the 5850th image.\n",
      "Processed the 5900th image.\n",
      "Processed the 5950th image.\n",
      "Processed the 6000th image.\n",
      "Processed the 6050th image.\n",
      "Processed the 6100th image.\n",
      "Processed the 6150th image.\n",
      "Processed the 6200th image.\n",
      "Processed the 6250th image.\n",
      "Processed the 6300th image.\n",
      "Processed the 6350th image.\n",
      "Processed the 6400th image.\n",
      "Processed the 6450th image.\n",
      "Processed the 6500th image.\n",
      "Processed the 6550th image.\n",
      "Processed the 6600th image.\n",
      "Processed the 6650th image.\n",
      "Processed the 6700th image.\n",
      "Processed the 6750th image.\n",
      "Processed the 6800th image.\n",
      "Processed the 6850th image.\n",
      "Processed the 6900th image.\n",
      "Processed the 6950th image.\n",
      "Processed the 7000th image.\n",
      "Processed the 7050th image.\n",
      "Processed the 7100th image.\n",
      "Processed the 7150th image.\n",
      "Processed the 7200th image.\n",
      "Processed the 7250th image.\n",
      "Processed the 7300th image.\n",
      "Processed the 7350th image.\n",
      "Processed the 7400th image.\n",
      "Processed the 7450th image.\n",
      "Processed the 7500th image.\n",
      "Processed the 7550th image.\n",
      "Processed the 7600th image.\n",
      "Processed the 7650th image.\n",
      "Processed the 7700th image.\n",
      "Processed the 7750th image.\n",
      "Processed the 7800th image.\n",
      "Processed the 7850th image.\n",
      "Processed the 7900th image.\n",
      "Processed the 7950th image.\n",
      "Processed the 8000th image.\n",
      "Processed the 8050th image.\n",
      "Processed the 8100th image.\n",
      "Processed the 8150th image.\n",
      "Processed the 8200th image.\n",
      "Processed the 8250th image.\n",
      "Processed the 8300th image.\n",
      "Processed the 8350th image.\n",
      "Processed the 8400th image.\n",
      "Processed the 8450th image.\n",
      "Processed the 8500th image.\n",
      "Processed the 8550th image.\n",
      "Processed the 8600th image.\n",
      "Processed the 8650th image.\n",
      "Processed the 8700th image.\n",
      "Processed the 8750th image.\n",
      "Processed the 8800th image.\n",
      "Processed the 8850th image.\n",
      "Processed the 8900th image.\n",
      "Processed the 8950th image.\n",
      "Processed the 9000th image.\n",
      "Processed the 9050th image.\n",
      "Processed the 9100th image.\n",
      "Processed the 9150th image.\n",
      "Processed the 9200th image.\n",
      "Processed the 9250th image.\n",
      "Processed the 9300th image.\n",
      "Processed the 9350th image.\n",
      "Processed the 9400th image.\n",
      "Processed the 9450th image.\n",
      "Processed the 9500th image.\n",
      "Processed the 9550th image.\n",
      "Processed the 9600th image.\n",
      "Processed the 9650th image.\n",
      "Processed the 9700th image.\n",
      "Processed the 9750th image.\n",
      "Processed the 9800th image.\n",
      "Processed the 9850th image.\n",
      "Processed the 9900th image.\n",
      "Processed the 9950th image.\n",
      "Processed the 10000th image.\n",
      "Processed the 10050th image.\n",
      "Processed the 10100th image.\n",
      "Processed the 10150th image.\n",
      "Processed the 10200th image.\n",
      "Processed the 10250th image.\n",
      "Processed the 10300th image.\n",
      "Processed the 10350th image.\n",
      "Processed the 10400th image.\n",
      "Processed the 10450th image.\n",
      "Processed the 10500th image.\n",
      "Processed the 10550th image.\n",
      "Processed the 10600th image.\n",
      "Processed the 10650th image.\n",
      "Processed the 10700th image.\n",
      "Processed the 10750th image.\n",
      "Processed the 10800th image.\n",
      "Processed the 10850th image.\n",
      "Processed the 10900th image.\n",
      "Processed the 10950th image.\n",
      "Processed the 11000th image.\n",
      "Processed the 11050th image.\n",
      "Processed the 11100th image.\n",
      "Processed the 11150th image.\n",
      "Processed the 11200th image.\n",
      "Processed the 11250th image.\n",
      "Processed the 11300th image.\n",
      "Processed the 11350th image.\n",
      "Processed the 11400th image.\n",
      "Processed the 11450th image.\n",
      "Processed the 11500th image.\n",
      "Processed the 11550th image.\n",
      "Processed the 11600th image.\n",
      "Processed the 11650th image.\n",
      "Processed the 11700th image.\n",
      "Processed the 11750th image.\n",
      "Processed the 11800th image.\n",
      "Processed the 11850th image.\n",
      "Processed the 11900th image.\n",
      "Processed the 11950th image.\n",
      "Processed the 12000th image.\n",
      "Processed the 12050th image.\n",
      "Processed the 12100th image.\n",
      "Processed the 12150th image.\n",
      "Processed the 12200th image.\n",
      "Processed the 12250th image.\n",
      "Processed the 12300th image.\n",
      "Complete processing:\n",
      "9.26934596108hr\n"
     ]
    }
   ],
   "source": [
    "outside_front_12330 = file_to_imageArray('outside_front.csv', 12330)"
   ]
  },
  {
   "cell_type": "code",
   "execution_count": 13,
   "metadata": {},
   "outputs": [
    {
     "name": "stdout",
     "output_type": "stream",
     "text": [
      "X shape:(12330, 64, 64, 3)\n",
      "Y shape(12330,)\n"
     ]
    }
   ],
   "source": [
    "outside_front_12330_X = outside_front_12330[0]\n",
    "outside_front_12330_Y = outside_front_12330[1]\n",
    "print(\"X shape:\" + str(outside_front_12330_X.shape))\n",
    "print(\"Y shape:\" + str(outside_front_12330_Y.shape))"
   ]
  },
  {
   "cell_type": "code",
   "execution_count": 25,
   "metadata": {},
   "outputs": [],
   "source": [
    "#f = h5py.File('data.h5','w')\n",
    "f = h5py.File('data.h5','r+')\n",
    "group=f.create_group('outside_front_12330')\n",
    "group.create_dataset('X', data = outside_front_12330_X)    # could add ‘compression=\"gzip\", compression_opts=9’ to compress\n",
    "group.create_dataset('Y', data = outside_front_12330_Y)\n",
    "f.close()"
   ]
  },
  {
   "cell_type": "code",
   "execution_count": 28,
   "metadata": {},
   "outputs": [],
   "source": [
    "f = h5py.File('data.h5','r')\n",
    "group = f['outside_front_12330']\n",
    "X = group['X'][:]\n",
    "Y = group['Y'][:]\n",
    "f.close()"
   ]
  },
  {
   "cell_type": "code",
   "execution_count": 29,
   "metadata": {},
   "outputs": [
    {
     "name": "stdout",
     "output_type": "stream",
     "text": [
      "((12330, 64, 64, 3), (12330,))\n"
     ]
    }
   ],
   "source": [
    "print(X.shape, Y.shape)"
   ]
  },
  {
   "cell_type": "code",
   "execution_count": null,
   "metadata": {
    "collapsed": true
   },
   "outputs": [],
   "source": []
  }
 ],
 "metadata": {
  "kernelspec": {
   "display_name": "Python 3",
   "language": "python",
   "name": "python3"
  },
  "language_info": {
   "codemirror_mode": {
    "name": "ipython",
    "version": 2
   },
   "file_extension": ".py",
   "mimetype": "text/x-python",
   "name": "python",
   "nbconvert_exporter": "python",
   "pygments_lexer": "ipython2",
   "version": "2.7.13"
  }
 },
 "nbformat": 4,
 "nbformat_minor": 2
}
