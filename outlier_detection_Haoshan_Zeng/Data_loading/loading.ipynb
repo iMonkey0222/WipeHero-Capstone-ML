{
 "cells": [
  {
   "cell_type": "code",
   "execution_count": 8,
   "metadata": {
    "collapsed": true
   },
   "outputs": [],
   "source": [
    "import csv\n",
    "import numpy as np\n",
    "import urllib\n",
    "import cv2"
   ]
  },
  {
   "cell_type": "code",
   "execution_count": 56,
   "metadata": {},
   "outputs": [
    {
     "name": "stdout",
     "output_type": "stream",
     "text": [
      "downloading https://tookan.s3.amazonaws.com/task_images/DPMu1497487685146-TOOKAN15062017104803.jpg\n",
      "resizing images\n",
      "(1, 256, 256, 3)\n",
      "downloading https://tookan.s3.amazonaws.com/task_images/vQhM1497489636852-TOOKAN15062017111923.jpg\n",
      "resizing images\n",
      "(2, 256, 256, 3)\n",
      "downloading https://tookan.s3.amazonaws.com/task_images/64g81497493509927-TOOKAN15062017122056.jpg\n",
      "resizing images\n",
      "(3, 256, 256, 3)\n",
      "downloading https://tookan.s3.amazonaws.com/task_images/UBLu1497495523508-TOOKAN15062017125843.jpg\n",
      "resizing images\n",
      "(4, 256, 256, 3)\n",
      "downloading https://tookan.s3.amazonaws.com/task_images/5rnH1497482768218-TOOKAN15062017092423.jpg\n",
      "resizing images\n",
      "(5, 256, 256, 3)\n"
     ]
    }
   ],
   "source": [
    "def url_to_image(url):\n",
    "    # download the image, convert it to a NumPy array, and then read\n",
    "    # it into OpenCV format\n",
    "    resp = urllib.urlopen(url)\n",
    "    image = np.asarray(bytearray(resp.read()), dtype=\"uint8\")\n",
    "    image = cv2.imdecode(image, cv2.IMREAD_COLOR)\n",
    "    \n",
    "    # return the image\n",
    "    return image\n",
    "\n",
    "with open('outside_front.csv') as f:\n",
    "    readCSV = csv.reader(f, delimiter=',')\n",
    "#     interestingrows=[row for idx, row in enumerate(readCSV) if idx in list(range(0,12329))]\n",
    "    interestingrows=[row for idx, row in enumerate(readCSV) if idx in list(range(0,5))]\n",
    "    \n",
    "    a = np.array([]).reshape(0,256,256,3)\n",
    "    for row in interestingrows:\n",
    "        label = row[0]\n",
    "        imageURL = row[1]\n",
    "        print \"downloading %s\" % (imageURL)\n",
    "        image = url_to_image(imageURL)\n",
    "\n",
    "        print \"resizing images\"\n",
    "        resized_image = cv2.resize(image, (256, 256)) # resize image to 400*400\n",
    "        \n",
    "        # reshape numpy array into one row\n",
    "        reshape_img = resized_image.reshape((1,256,256,3))\n",
    "        a = np.append(a,reshape_img,axis=0)\n",
    "        \n",
    "#         np.savetxt('test.txt',reshape_img,delimiter=',')\n",
    "        print(a.shape)\n",
    "        "
   ]
  },
  {
   "cell_type": "code",
   "execution_count": 31,
   "metadata": {},
   "outputs": [
    {
     "name": "stdout",
     "output_type": "stream",
     "text": [
      "[  49.   53.  104. ...,   17.   12.   13.]\n"
     ]
    }
   ],
   "source": [
    "data = np.loadtxt('test.txt',delimiter=',')\n",
    "print(data)"
   ]
  },
  {
   "cell_type": "code",
   "execution_count": null,
   "metadata": {
    "collapsed": true
   },
   "outputs": [],
   "source": []
  }
 ],
 "metadata": {
  "kernelspec": {
   "display_name": "Python 2",
   "language": "python",
   "name": "python2"
  },
  "language_info": {
   "codemirror_mode": {
    "name": "ipython",
    "version": 2
   },
   "file_extension": ".py",
   "mimetype": "text/x-python",
   "name": "python",
   "nbconvert_exporter": "python",
   "pygments_lexer": "ipython2",
   "version": "2.7.13"
  }
 },
 "nbformat": 4,
 "nbformat_minor": 2
}
