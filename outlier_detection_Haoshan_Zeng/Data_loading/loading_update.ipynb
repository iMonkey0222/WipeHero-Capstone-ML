{
 "cells": [
  {
   "cell_type": "code",
   "execution_count": 10,
   "metadata": {
    "collapsed": true
   },
   "outputs": [],
   "source": [
    "import h5py\n",
    "import numpy as np\n",
    "import cv2\n",
    "import urllib\n",
    "import csv\n",
    "import time"
   ]
  },
  {
   "cell_type": "code",
   "execution_count": 14,
   "metadata": {},
   "outputs": [
    {
     "name": "stdout",
     "output_type": "stream",
     "text": [
      "processing image 2\n",
      "processing image 4\n",
      "processing image 6\n",
      "processing image 8\n",
      "processing image 10\n",
      "processing image 12\n",
      "processing image 14\n",
      "processing image 16\n",
      "processing image 18\n",
      "processing image 20\n",
      "processing image 22\n",
      "processing image 24\n",
      "processing image 26\n",
      "processing image 28\n",
      "processing image 30\n",
      "processing image 32\n",
      "processing image 34\n",
      "processing image 36\n",
      "processing image 38\n",
      "processing image 40\n",
      "processing image 42\n",
      "processing image 44\n",
      "processing image 46\n",
      "processing image 48\n",
      "processing image 50\n",
      "processing image 52\n",
      "processing image 54\n",
      "processing image 56\n",
      "processing image 58\n",
      "processing image 60\n",
      "processing image 62\n",
      "processing image 64\n",
      "processing image 66\n",
      "processing image 68\n",
      "processing image 70\n",
      "processing image 72\n",
      "processing image 74\n",
      "processing image 76\n",
      "processing image 78\n",
      "processing image 80\n",
      "processing image 82\n",
      "processing image 84\n",
      "processing image 86\n",
      "processing image 88\n",
      "processing image 90\n",
      "processing image 92\n",
      "processing image 94\n",
      "processing image 96\n",
      "processing image 98\n",
      "processing image 100\n",
      "(100, 256, 256, 3)\n",
      "time 12.879131\n"
     ]
    }
   ],
   "source": [
    "def url_to_image(url):\n",
    "    # download the image, convert it to a NumPy array, and then read\n",
    "    # it into OpenCV format\n",
    "    resp = urllib.urlopen(url)\n",
    "    image = np.asarray(bytearray(resp.read()), dtype=\"uint8\")\n",
    "    image = cv2.imdecode(image, cv2.IMREAD_COLOR)\n",
    "    \n",
    "    # return the image\n",
    "    return image\n",
    "\n",
    "with open('outside_back.csv') as f:\n",
    "    start = time.clock()\n",
    "    readCSV = csv.reader(f, delimiter=',')\n",
    "    interestingrows=[row for idx, row in enumerate(readCSV) if idx in list(range(0,100))]\n",
    "    \n",
    "    a = np.array([]).reshape(0,256,256,3)\n",
    "    count = 0\n",
    "    for row in interestingrows:\n",
    "        label = row[0]\n",
    "        imageURL = row[1]\n",
    "        count += 1\n",
    "        if count%2==0:\n",
    "            print('processing image %s'%(count))\n",
    "        image = url_to_image(imageURL)\n",
    "        \n",
    "        resized_image = cv2.resize(image, (256, 256)) # resize image to 256*256\n",
    "        \n",
    "        # reshape numpy array\n",
    "        reshape_img = resized_image.reshape((1,256,256,3))\n",
    "        a = np.concatenate((a,reshape_img),axis=0)\n",
    "    print(a.shape)\n",
    "    final = time.clock() - start\n",
    "    print('time %s'%(final))\n",
    "        \n",
    "#         np.savetxt('test.txt',reshape_img,delimiter=',')\n",
    "        \n",
    "    \n",
    "    # save as hdf5 file\n",
    "    f = h5py.File('out_back_h5.h5','w')\n",
    "    f['data']=a\n",
    "    f.close()"
   ]
  },
  {
   "cell_type": "code",
   "execution_count": null,
   "metadata": {
    "collapsed": true
   },
   "outputs": [],
   "source": []
  }
 ],
 "metadata": {
  "kernelspec": {
   "display_name": "Python 2",
   "language": "python",
   "name": "python2"
  },
  "language_info": {
   "codemirror_mode": {
    "name": "ipython",
    "version": 2
   },
   "file_extension": ".py",
   "mimetype": "text/x-python",
   "name": "python",
   "nbconvert_exporter": "python",
   "pygments_lexer": "ipython2",
   "version": "2.7.13"
  }
 },
 "nbformat": 4,
 "nbformat_minor": 2
}
