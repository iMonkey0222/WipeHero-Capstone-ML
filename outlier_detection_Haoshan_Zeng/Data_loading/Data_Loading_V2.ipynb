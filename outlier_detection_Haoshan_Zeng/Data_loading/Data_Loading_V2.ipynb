{
 "cells": [
  {
   "cell_type": "code",
   "execution_count": 69,
   "metadata": {
    "collapsed": true
   },
   "outputs": [],
   "source": [
    "import csv\n",
    "import numpy as np\n",
    "import h5py\n",
    "import scipy\n",
    "from PIL import Image\n",
    "from skimage import io\n",
    "from scipy import ndimage\n",
    "import matplotlib.pyplot as plt"
   ]
  },
  {
   "cell_type": "code",
   "execution_count": 70,
   "metadata": {
    "collapsed": true
   },
   "outputs": [],
   "source": [
    "import time"
   ]
  },
  {
   "cell_type": "code",
   "execution_count": 71,
   "metadata": {
    "collapsed": true
   },
   "outputs": [],
   "source": [
    "# read url from a csv file and convert to numpy array for certain rows\n",
    "def convert_img(file_name, end_row):\n",
    "    with open(str(file_name)) as f:\n",
    "        # time start\n",
    "        start = time.clock()\n",
    "        readCSV = csv.reader(f, delimiter=',')\n",
    "        # define row to end\n",
    "        interestingrows=[row for idx, row in enumerate(readCSV) if idx in list(range(0,end_row))]\n",
    "        \n",
    "        # create data list and label list\n",
    "        data = list()\n",
    "        label = list()\n",
    "        count = 0\n",
    "        \n",
    "        print('start.......')\n",
    "        \n",
    "        for row in interestingrows:\n",
    "            imageURL = row[1]\n",
    "            label_outlier = row[2]\n",
    "            count += 1\n",
    "            \n",
    "            # read image from url and tranform into array\n",
    "            img = io.imread(imageURL)\n",
    "            img_array = scipy.misc.imresize(img, size=(96,96))\n",
    "            \n",
    "            if count%100 == 0:\n",
    "                print('processing image %s'%(count))\n",
    "            \n",
    "            # append to list\n",
    "            data.append(img_array)\n",
    "            label.append(label_outlier)\n",
    "            \n",
    "        final_data_array = np.array(data)\n",
    "        final_label_array = np.array(label)\n",
    "\n",
    "        run_time = time.clock() - start\n",
    "        print('run time %s'%(run_time))\n",
    "        \n",
    "    return final_data_array, final_label_array"
   ]
  },
  {
   "cell_type": "code",
   "execution_count": 72,
   "metadata": {},
   "outputs": [],
   "source": [
    "# read url from a csv file and convert to numpy array for the whole csv file\n",
    "def convert_whole(file_name):\n",
    "    with open(str(file_name)) as f:\n",
    "        # time start\n",
    "        start = time.clock()\n",
    "        readCSV = csv.reader(f, delimiter=',')\n",
    "        \n",
    "        # create data list\n",
    "        data = list()\n",
    "        count = 0\n",
    "        \n",
    "        print('start.......')\n",
    "        \n",
    "        for row in readCSV:\n",
    "            imageURL = row[1]\n",
    "            count += 1\n",
    "            \n",
    "            # read image from url and tranform into array\n",
    "            img = io.imread(imageURL)\n",
    "            img_array = scipy.misc.imresize(img, size=(96,96))\n",
    "            \n",
    "            if count%100 == 0:\n",
    "                print('processing image %s'%(count))\n",
    "            \n",
    "            # append to list\n",
    "            data.append(img_array)\n",
    "            \n",
    "        final_data_array = np.array(data)\n",
    "\n",
    "        run_time = time.clock() - start\n",
    "        print('run time %s'%(run_time))\n",
    "        \n",
    "    return final_data_array"
   ]
  },
  {
   "cell_type": "code",
   "execution_count": 73,
   "metadata": {},
   "outputs": [
    {
     "name": "stdout",
     "output_type": "stream",
     "text": [
      "start.......\n",
      "processing image 100\n",
      "processing image 200\n",
      "processing image 300\n",
      "processing image 400\n",
      "processing image 500\n",
      "processing image 600\n",
      "processing image 700\n",
      "processing image 800\n",
      "processing image 900\n",
      "processing image 1000\n",
      "processing image 1100\n",
      "processing image 1200\n",
      "processing image 1300\n",
      "processing image 1400\n",
      "processing image 1500\n",
      "processing image 1600\n",
      "processing image 1700\n",
      "processing image 1800\n",
      "processing image 1900\n",
      "processing image 2000\n",
      "processing image 2100\n",
      "processing image 2200\n",
      "processing image 2300\n",
      "processing image 2400\n",
      "processing image 2500\n",
      "processing image 2600\n",
      "processing image 2700\n",
      "processing image 2800\n",
      "processing image 2900\n",
      "processing image 3000\n",
      "run time 474.3315480000001\n"
     ]
    }
   ],
   "source": [
    "test_set = convert_img('outside_front.csv', 3000)"
   ]
  },
  {
   "cell_type": "code",
   "execution_count": 119,
   "metadata": {},
   "outputs": [],
   "source": [
    "f = h5py.File('test_set.h5','w')\n",
    "data = f.create_dataset('data',data=test_set[0])\n",
    "label = f.create_dataset('label',data=test_set[1].astype(np.int))\n",
    "f.close()"
   ]
  },
  {
   "cell_type": "code",
   "execution_count": 121,
   "metadata": {},
   "outputs": [],
   "source": [
    "f = h5py.File('test_set.h5','r')\n",
    "data = f['data'][:]\n",
    "label = f['label'][:]\n",
    "f.close()\n"
   ]
  },
  {
   "cell_type": "code",
   "execution_count": 122,
   "metadata": {},
   "outputs": [
    {
     "name": "stdout",
     "output_type": "stream",
     "text": [
      "start.......\n",
      "run time 0.07733600000005936\n"
     ]
    }
   ],
   "source": [
    "one_pic = convert_img('outside_front.csv', 1)"
   ]
  },
  {
   "cell_type": "code",
   "execution_count": 123,
   "metadata": {
    "collapsed": true
   },
   "outputs": [],
   "source": [
    "f = h5py.File('one_pic.h5','w')\n",
    "data = f.create_dataset('data',data=one_pic[0])\n",
    "label = f.create_dataset('label',data=one_pic[1].astype(np.int))\n",
    "f.close()"
   ]
  },
  {
   "cell_type": "code",
   "execution_count": null,
   "metadata": {
    "collapsed": true
   },
   "outputs": [],
   "source": []
  }
 ],
 "metadata": {
  "kernelspec": {
   "display_name": "Python 3",
   "language": "python",
   "name": "python3"
  },
  "language_info": {
   "codemirror_mode": {
    "name": "ipython",
    "version": 3
   },
   "file_extension": ".py",
   "mimetype": "text/x-python",
   "name": "python",
   "nbconvert_exporter": "python",
   "pygments_lexer": "ipython3",
   "version": "3.6.1"
  }
 },
 "nbformat": 4,
 "nbformat_minor": 2
}
