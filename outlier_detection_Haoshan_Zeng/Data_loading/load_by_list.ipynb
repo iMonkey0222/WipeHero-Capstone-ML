{
 "cells": [
  {
   "cell_type": "code",
   "execution_count": 1,
   "metadata": {
    "collapsed": true
   },
   "outputs": [],
   "source": [
    "import h5py\n",
    "import numpy as np\n",
    "import cv2\n",
    "import urllib\n",
    "import csv\n",
    "import time"
   ]
  },
  {
   "cell_type": "code",
   "execution_count": 4,
   "metadata": {},
   "outputs": [
    {
     "name": "stdout",
     "output_type": "stream",
     "text": [
      "processing image 200\n",
      "processing image 400\n",
      "processing image 600\n",
      "processing image 800\n",
      "processing image 1000\n",
      "processing image 1200\n",
      "processing image 1400\n",
      "processing image 1600\n",
      "processing image 1800\n",
      "processing image 2000\n",
      "processing image 2200\n",
      "processing image 2400\n",
      "processing image 2600\n",
      "processing image 2800\n",
      "processing image 3000\n",
      "processing image 3200\n",
      "processing image 3400\n",
      "processing image 3600\n",
      "processing image 3800\n",
      "processing image 4000\n",
      "processing image 4200\n",
      "processing image 4400\n",
      "processing image 4600\n",
      "processing image 4800\n",
      "processing image 5000\n",
      "processing image 5200\n",
      "processing image 5400\n",
      "processing image 5600\n",
      "processing image 5800\n",
      "processing image 6000\n",
      "processing image 6200\n",
      "processing image 6400\n",
      "processing image 6600\n",
      "processing image 6800\n",
      "processing image 7000\n",
      "processing image 7200\n",
      "processing image 7400\n",
      "processing image 7600\n",
      "processing image 7800\n",
      "processing image 8000\n",
      "processing image 8200\n",
      "processing image 8400\n",
      "processing image 8600\n",
      "processing image 8800\n",
      "processing image 9000\n",
      "processing image 9200\n",
      "processing image 9400\n",
      "processing image 9600\n",
      "processing image 9800\n",
      "processing image 10000\n",
      "processing image 10200\n",
      "processing image 10400\n",
      "processing image 10600\n",
      "processing image 10800\n",
      "processing image 11000\n",
      "processing image 11200\n",
      "processing image 11400\n",
      "processing image 11600\n",
      "processing image 11800\n",
      "processing image 12000\n",
      "(12063, 256, 256, 3)\n",
      "time 889.723794\n"
     ]
    }
   ],
   "source": [
    "def url_to_image(url):\n",
    "    # download the image, convert it to a NumPy array, and then read\n",
    "    # it into OpenCV format\n",
    "    resp = urllib.urlopen(url)\n",
    "    image = np.asarray(bytearray(resp.read()), dtype=\"uint8\")\n",
    "    image = cv2.imdecode(image, cv2.IMREAD_COLOR)\n",
    "    \n",
    "    # return the image\n",
    "    return image\n",
    "\n",
    "with open('outside_right.csv') as f:\n",
    "    start = time.clock()\n",
    "    readCSV = csv.reader(f, delimiter=',')\n",
    "#     interestingrows=[row for idx, row in enumerate(readCSV) if idx in list(range(0,100))]\n",
    "    \n",
    "    data = list()\n",
    "    count = 0\n",
    "    for row in readCSV:\n",
    "        label = row[0]\n",
    "        imageURL = row[1]\n",
    "        count += 1\n",
    "        if count%200==0:\n",
    "            print('processing image %s'%(count))\n",
    "        image = url_to_image(imageURL)\n",
    "        \n",
    "        resized_image = cv2.resize(image, (256, 256)) # resize image to 256*256\n",
    "\n",
    "        data.append(resized_image)\n",
    "    a = np.array(data)\n",
    "    print(a.shape)\n",
    "    final = time.clock() - start\n",
    "    print('time %s'%(final))\n",
    "        \n",
    "#         np.savetxt('test.txt',reshape_img,delimiter=',')\n",
    "        \n",
    "    \n",
    "    # save as hdf5 file\n",
    "    f = h5py.File('out_right_h5.h5','w')\n",
    "    f['data']=a\n",
    "    f.close()"
   ]
  },
  {
   "cell_type": "code",
   "execution_count": null,
   "metadata": {
    "collapsed": true
   },
   "outputs": [],
   "source": []
  }
 ],
 "metadata": {
  "kernelspec": {
   "display_name": "Python 2",
   "language": "python",
   "name": "python2"
  },
  "language_info": {
   "codemirror_mode": {
    "name": "ipython",
    "version": 2
   },
   "file_extension": ".py",
   "mimetype": "text/x-python",
   "name": "python",
   "nbconvert_exporter": "python",
   "pygments_lexer": "ipython2",
   "version": "2.7.13"
  }
 },
 "nbformat": 4,
 "nbformat_minor": 2
}
