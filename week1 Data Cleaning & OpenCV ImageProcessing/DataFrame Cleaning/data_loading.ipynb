{
 "cells": [
  {
   "cell_type": "code",
   "execution_count": 1,
   "metadata": {
    "collapsed": true
   },
   "outputs": [],
   "source": [
    "import pandas as pd"
   ]
  },
  {
   "cell_type": "code",
   "execution_count": 43,
   "metadata": {},
   "outputs": [
    {
     "name": "stdout",
     "output_type": "stream",
     "text": [
      "                            2  \\\n",
      "385               Damagephoto   \n",
      "387              Shampoophoto   \n",
      "390               Damagephoto   \n",
      "392              Shampoophoto   \n",
      "393              OutsideFront   \n",
      "394               OutsideBack   \n",
      "395              OutsideRight   \n",
      "396               OutsideLeft   \n",
      "397          InsideDriverSeat   \n",
      "398  InsideFrontPassengerSeat   \n",
      "\n",
      "                                                     4  \n",
      "385  https://tookan.s3.amazonaws.com/task_images/X7...  \n",
      "387  https://tookan.s3.amazonaws.com/task_images/Pp...  \n",
      "390  https://tookan.s3.amazonaws.com/task_images/X7...  \n",
      "392  https://tookan.s3.amazonaws.com/task_images/Pp...  \n",
      "393  https://tookan.s3.amazonaws.com/task_images/wJ...  \n",
      "394  https://tookan.s3.amazonaws.com/task_images/yW...  \n",
      "395  https://tookan.s3.amazonaws.com/task_images/dc...  \n",
      "396  https://tookan.s3.amazonaws.com/task_images/9T...  \n",
      "397  https://tookan.s3.amazonaws.com/task_images/OX...  \n",
      "398  https://tookan.s3.amazonaws.com/task_images/gj...  \n"
     ]
    }
   ],
   "source": [
    "def data_loading():\n",
    "    raw_data = pd.read_csv('wipehero_dashboard_tasks_custom_fields.csv',header=None)\n",
    "    image_row = raw_data.loc[raw_data[3] == 'Image']\n",
    "    valid_image = image_row.loc[image_row[4].notnull(),[2,4]]\n",
    "    print(valid_image.head(10))\n",
    "    valid_image.to_csv('valid_image_1.csv',sep=',',index=None, header=None)\n",
    "if __name__ == '__main__':\n",
    "    data_loading()"
   ]
  },
  {
   "cell_type": "code",
   "execution_count": null,
   "metadata": {
    "collapsed": true
   },
   "outputs": [],
   "source": []
  }
 ],
 "metadata": {
  "kernelspec": {
   "display_name": "Python 2",
   "language": "python",
   "name": "python2"
  },
  "language_info": {
   "codemirror_mode": {
    "name": "ipython",
    "version": 2
   },
   "file_extension": ".py",
   "mimetype": "text/x-python",
   "name": "python",
   "nbconvert_exporter": "python",
   "pygments_lexer": "ipython2",
   "version": "2.7.13"
  }
 },
 "nbformat": 4,
 "nbformat_minor": 2
}
