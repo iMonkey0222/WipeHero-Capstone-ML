{
 "cells": [
  {
   "cell_type": "code",
   "execution_count": 14,
   "metadata": {
    "collapsed": true
   },
   "outputs": [],
   "source": [
    "import cv2\n",
    "import urllib\n",
    "import numpy as np"
   ]
  },
  {
   "cell_type": "code",
   "execution_count": 17,
   "metadata": {},
   "outputs": [
    {
     "name": "stdout",
     "output_type": "stream",
     "text": [
      "(344, 612, 3)\n",
      "('RGB matrix: ', array([[[211, 190, 182],\n",
      "        [205, 184, 176],\n",
      "        [202, 181, 173],\n",
      "        ..., \n",
      "        [ 43,  55,  57],\n",
      "        [ 50,  62,  64],\n",
      "        [ 56,  68,  70]],\n",
      "\n",
      "       [[223, 204, 196],\n",
      "        [208, 189, 181],\n",
      "        [192, 173, 165],\n",
      "        ..., \n",
      "        [ 32,  44,  46],\n",
      "        [ 36,  48,  50],\n",
      "        [ 39,  51,  53]],\n",
      "\n",
      "       [[205, 189, 183],\n",
      "        [193, 177, 171],\n",
      "        [181, 165, 159],\n",
      "        ..., \n",
      "        [ 23,  35,  37],\n",
      "        [ 26,  38,  40],\n",
      "        [ 28,  40,  42]],\n",
      "\n",
      "       ..., \n",
      "       [[111, 117, 124],\n",
      "        [112, 118, 125],\n",
      "        [113, 119, 126],\n",
      "        ..., \n",
      "        [107, 113, 120],\n",
      "        [104, 110, 117],\n",
      "        [102, 108, 115]],\n",
      "\n",
      "       [[112, 118, 125],\n",
      "        [112, 118, 125],\n",
      "        [112, 118, 125],\n",
      "        ..., \n",
      "        [104, 110, 117],\n",
      "        [104, 110, 117],\n",
      "        [103, 109, 116]],\n",
      "\n",
      "       [[113, 119, 126],\n",
      "        [113, 119, 126],\n",
      "        [112, 118, 125],\n",
      "        ..., \n",
      "        [103, 109, 116],\n",
      "        [104, 110, 117],\n",
      "        [103, 109, 116]]], dtype=uint8))\n",
      "(500, 500, 3)\n",
      "('RGB matrix: ', array([[[ 28,  25,  21],\n",
      "        [ 28,  25,  21],\n",
      "        [ 28,  25,  21],\n",
      "        ..., \n",
      "        [122, 142, 147],\n",
      "        [119, 139, 144],\n",
      "        [116, 136, 141]],\n",
      "\n",
      "       [[ 28,  25,  21],\n",
      "        [ 28,  25,  21],\n",
      "        [ 28,  25,  21],\n",
      "        ..., \n",
      "        [125, 145, 150],\n",
      "        [121, 141, 146],\n",
      "        [118, 138, 143]],\n",
      "\n",
      "       [[ 28,  25,  21],\n",
      "        [ 28,  25,  21],\n",
      "        [ 28,  25,  21],\n",
      "        ..., \n",
      "        [128, 148, 153],\n",
      "        [124, 144, 149],\n",
      "        [122, 142, 147]],\n",
      "\n",
      "       ..., \n",
      "       [[174, 186, 196],\n",
      "        [175, 187, 197],\n",
      "        [176, 188, 198],\n",
      "        ..., \n",
      "        [100, 103,  94],\n",
      "        [100, 103,  94],\n",
      "        [100, 103,  94]],\n",
      "\n",
      "       [[188, 200, 209],\n",
      "        [175, 187, 197],\n",
      "        [161, 173, 183],\n",
      "        ..., \n",
      "        [100, 103,  94],\n",
      "        [100, 103,  94],\n",
      "        [100, 103,  94]],\n",
      "\n",
      "       [[194, 205, 216],\n",
      "        [172, 184, 194],\n",
      "        [152, 164, 174],\n",
      "        ..., \n",
      "        [100, 103,  94],\n",
      "        [100, 103,  94],\n",
      "        [100, 103,  94]]], dtype=uint8))\n"
     ]
    }
   ],
   "source": [
    "req = urllib.urlopen(\"https://tookan.s3.amazonaws.com/task_images/G0gC1486365254968-TOOKAN06022017061412.jpg\")\n",
    "arr = np.asarray(bytearray(req.read()), dtype=np.uint8)\n",
    "img = cv2.imdecode(arr,-1) # 'load it as it is'\n",
    "a = np.asarray(img)\n",
    "print(a.shape)\n",
    "print(\"RGB matrix: \", a)\n",
    "\n",
    "resized_image = cv2.resize(image, (500, 500))\n",
    "array = np.asarray(resized_image)\n",
    "print(array.shape)\n",
    "print(\"RGB matrix: \", array)\n",
    "#img = cv2.imread()\n",
    "#cv2.namedWindow(\"Image\")"
   ]
  },
  {
   "cell_type": "code",
   "execution_count": 5,
   "metadata": {
    "collapsed": true
   },
   "outputs": [],
   "source": [
    "cv2.imshow(\"Outside Right\", img)\n",
    "k = cv2.waitKey(0) & 0xff   # since is 64-bit machine need 0xff\n",
    "if k == 27:                 #  wiat for ESC key to quit\n",
    "    cv2.destroyAllWindows()\n",
    "elif k == ord(\"s\"):         # wait for 's' key to save and exit\n",
    "    cv2.imwrite(\"Outsideright.png\",img)\n",
    "    cv2.destroyAllWindows()\n",
    "#if cv2.waitKey() & 0xff == 27: quit()"
   ]
  },
  {
   "cell_type": "markdown",
   "metadata": {},
   "source": [
    "\n",
    "#### Another way to read url image\n"
   ]
  },
  {
   "cell_type": "code",
   "execution_count": 1,
   "metadata": {},
   "outputs": [
    {
     "ename": "ImportError",
     "evalue": "No module named skimage",
     "output_type": "error",
     "traceback": [
      "\u001b[0;31m---------------------------------------------------------------------------\u001b[0m",
      "\u001b[0;31mImportError\u001b[0m                               Traceback (most recent call last)",
      "\u001b[0;32m<ipython-input-1-08d2254c9914>\u001b[0m in \u001b[0;36m<module>\u001b[0;34m()\u001b[0m\n\u001b[0;32m----> 1\u001b[0;31m \u001b[0;32mfrom\u001b[0m \u001b[0mskimage\u001b[0m \u001b[0;32mimport\u001b[0m \u001b[0mio\u001b[0m\u001b[0;34m\u001b[0m\u001b[0m\n\u001b[0m",
      "\u001b[0;31mImportError\u001b[0m: No module named skimage"
     ]
    }
   ],
   "source": [
    "from skimage import io"
   ]
  },
  {
   "cell_type": "code",
   "execution_count": null,
   "metadata": {
    "collapsed": true
   },
   "outputs": [],
   "source": [
    "image = io.imread(\"https://tookan.s3.amazonaws.com/task_images/G0gC1486365254968-TOOKAN06022017061412.jpg\")\n"
   ]
  },
  {
   "cell_type": "code",
   "execution_count": null,
   "metadata": {
    "collapsed": true
   },
   "outputs": [],
   "source": [
    "cv2.imshow(\"test\", image)\n",
    "cv2.waitKey(0)\n",
    "cv2.destroyAllWindows()"
   ]
  },
  {
   "cell_type": "markdown",
   "metadata": {
    "collapsed": true
   },
   "source": [
    "#### Standard way"
   ]
  },
  {
   "cell_type": "code",
   "execution_count": 18,
   "metadata": {
    "collapsed": true
   },
   "outputs": [],
   "source": [
    "import numpy as np\n",
    "import urllib\n",
    "import cv2\n",
    " \n",
    "# METHOD #1: OpenCV, NumPy, and urllib\n",
    "def url_to_image(url):\n",
    "    # download the image, convert it to a NumPy array, and then read\n",
    "    # it into OpenCV format\n",
    "    resp = urllib.urlopen(url)\n",
    "    image = np.asarray(bytearray(resp.read()), dtype=\"uint8\")\n",
    "    image = cv2.imdecode(image, cv2.IMREAD_COLOR)\n",
    " \n",
    "    # return the image\n",
    "    return image"
   ]
  },
  {
   "cell_type": "code",
   "execution_count": 19,
   "metadata": {
    "collapsed": true
   },
   "outputs": [],
   "source": [
    "# initialize the list of image URLs to download\n",
    "urls = [\n",
    "    'https://tookan.s3.amazonaws.com/task_images/G0gC1486365254968-TOOKAN06022017061412.jpg',\n",
    "    'https://tookan.s3.amazonaws.com/task_images/rQZD1486365263088-TOOKAN06022017061420.jpg',\n",
    "    'https://tookan.s3.amazonaws.com/task_images/B7JB1486365339438-TOOKAN06022017061537.jpg',\n",
    "]"
   ]
  },
  {
   "cell_type": "code",
   "execution_count": null,
   "metadata": {
    "collapsed": true
   },
   "outputs": [],
   "source": [
    "for url in urls:\n",
    "    # download the image URL and display it\n",
    "    print \"downloading %s\" % (url)\n",
    "    image = url_to_image(url)\n",
    "    cv2.imshow(\"Image\", image)\n",
    "    k = cv2.waitKey(0) & 0xff\n",
    "    if k == 27:                 #  wiat for ESC key to quit\n",
    "        cv2.destroyAllWindows()\n",
    "    elif k == ord(\"s\"):         # wait for 's' key to save and exit\n",
    "        cv2.imwrite(\"image.png\",image)\n",
    "        cv2.destroyAllWindows()"
   ]
  },
  {
   "cell_type": "code",
   "execution_count": 20,
   "metadata": {},
   "outputs": [
    {
     "name": "stdout",
     "output_type": "stream",
     "text": [
      "downloading https://tookan.s3.amazonaws.com/task_images/G0gC1486365254968-TOOKAN06022017061412.jpg\n",
      "resizing images\n",
      "(500, 500, 3)\n",
      "('RGB matrix: ', array([[[210, 189, 181],\n",
      "        [204, 183, 175],\n",
      "        [205, 184, 176],\n",
      "        ..., \n",
      "        [ 41,  53,  55],\n",
      "        [ 47,  60,  62],\n",
      "        [ 55,  67,  69]],\n",
      "\n",
      "       [[216, 196, 188],\n",
      "        [203, 183, 175],\n",
      "        [197, 177, 169],\n",
      "        ..., \n",
      "        [ 35,  47,  49],\n",
      "        [ 41,  53,  55],\n",
      "        [ 46,  58,  60]],\n",
      "\n",
      "       [[217, 199, 192],\n",
      "        [200, 181, 174],\n",
      "        [187, 169, 161],\n",
      "        ..., \n",
      "        [ 29,  41,  43],\n",
      "        [ 33,  44,  46],\n",
      "        [ 36,  48,  50]],\n",
      "\n",
      "       ..., \n",
      "       [[112, 118, 125],\n",
      "        [112, 118, 125],\n",
      "        [112, 118, 125],\n",
      "        ..., \n",
      "        [105, 111, 118],\n",
      "        [104, 110, 117],\n",
      "        [103, 109, 116]],\n",
      "\n",
      "       [[112, 118, 125],\n",
      "        [112, 118, 125],\n",
      "        [112, 118, 125],\n",
      "        ..., \n",
      "        [104, 110, 117],\n",
      "        [104, 110, 117],\n",
      "        [103, 109, 116]],\n",
      "\n",
      "       [[113, 119, 126],\n",
      "        [113, 119, 126],\n",
      "        [111, 117, 124],\n",
      "        ..., \n",
      "        [103, 109, 116],\n",
      "        [103, 110, 116],\n",
      "        [103, 109, 116]]], dtype=uint8))\n",
      "downloading https://tookan.s3.amazonaws.com/task_images/rQZD1486365263088-TOOKAN06022017061420.jpg\n",
      "resizing images\n",
      "(500, 500, 3)\n",
      "('RGB matrix: ', array([[[ 24,  31,  34],\n",
      "        [ 25,  32,  35],\n",
      "        [ 25,  32,  35],\n",
      "        ..., \n",
      "        [ 22,  18,  24],\n",
      "        [ 22,  18,  24],\n",
      "        [ 22,  18,  24]],\n",
      "\n",
      "       [[ 23,  30,  33],\n",
      "        [ 25,  32,  35],\n",
      "        [ 25,  32,  35],\n",
      "        ..., \n",
      "        [ 17,  14,  20],\n",
      "        [ 17,  14,  20],\n",
      "        [ 17,  14,  20]],\n",
      "\n",
      "       [[ 21,  28,  31],\n",
      "        [ 23,  30,  34],\n",
      "        [ 24,  31,  34],\n",
      "        ..., \n",
      "        [ 16,  15,  21],\n",
      "        [ 15,  14,  20],\n",
      "        [ 15,  13,  19]],\n",
      "\n",
      "       ..., \n",
      "       [[ 76,  83,  86],\n",
      "        [ 93, 100, 103],\n",
      "        [ 98, 105, 108],\n",
      "        ..., \n",
      "        [105, 108, 112],\n",
      "        [106, 109, 113],\n",
      "        [108, 110, 114]],\n",
      "\n",
      "       [[ 81,  88,  91],\n",
      "        [ 88,  95,  98],\n",
      "        [ 89,  96,  99],\n",
      "        ..., \n",
      "        [104, 107, 111],\n",
      "        [104, 107, 111],\n",
      "        [105, 108, 112]],\n",
      "\n",
      "       [[ 85,  92,  95],\n",
      "        [ 79,  87,  90],\n",
      "        [ 76,  83,  86],\n",
      "        ..., \n",
      "        [103, 106, 110],\n",
      "        [102, 105, 109],\n",
      "        [102, 105, 109]]], dtype=uint8))\n",
      "downloading https://tookan.s3.amazonaws.com/task_images/B7JB1486365339438-TOOKAN06022017061537.jpg\n",
      "resizing images\n",
      "(500, 500, 3)\n",
      "('RGB matrix: ', array([[[ 28,  25,  21],\n",
      "        [ 28,  25,  21],\n",
      "        [ 28,  25,  21],\n",
      "        ..., \n",
      "        [122, 142, 147],\n",
      "        [119, 139, 144],\n",
      "        [116, 136, 141]],\n",
      "\n",
      "       [[ 28,  25,  21],\n",
      "        [ 28,  25,  21],\n",
      "        [ 28,  25,  21],\n",
      "        ..., \n",
      "        [125, 145, 150],\n",
      "        [121, 141, 146],\n",
      "        [118, 138, 143]],\n",
      "\n",
      "       [[ 28,  25,  21],\n",
      "        [ 28,  25,  21],\n",
      "        [ 28,  25,  21],\n",
      "        ..., \n",
      "        [128, 148, 153],\n",
      "        [124, 144, 149],\n",
      "        [122, 142, 147]],\n",
      "\n",
      "       ..., \n",
      "       [[174, 186, 196],\n",
      "        [175, 187, 197],\n",
      "        [176, 188, 198],\n",
      "        ..., \n",
      "        [100, 103,  94],\n",
      "        [100, 103,  94],\n",
      "        [100, 103,  94]],\n",
      "\n",
      "       [[188, 200, 209],\n",
      "        [175, 187, 197],\n",
      "        [161, 173, 183],\n",
      "        ..., \n",
      "        [100, 103,  94],\n",
      "        [100, 103,  94],\n",
      "        [100, 103,  94]],\n",
      "\n",
      "       [[194, 205, 216],\n",
      "        [172, 184, 194],\n",
      "        [152, 164, 174],\n",
      "        ..., \n",
      "        [100, 103,  94],\n",
      "        [100, 103,  94],\n",
      "        [100, 103,  94]]], dtype=uint8))\n"
     ]
    }
   ],
   "source": [
    "for url in urls:\n",
    "    # download the image URL and display it\n",
    "    print \"downloading %s\" % (url)\n",
    "    image = url_to_image(url)\n",
    "    print \"resizing images\"\n",
    "    resized_image = cv2.resize(image, (500, 500)) \n",
    "    cv2.imshow(\"resizedImage\", resized_image)\n",
    "    array = np.asarray(resized_image)\n",
    "    print(array.shape)\n",
    "    print(\"RGB matrix: \", array)\n",
    "    if k == 27:                 #  wiat for ESC key to quit\n",
    "        cv2.destroyAllWindows()\n",
    "    elif k == ord(\"s\"):         # wait for 's' key to save and exit\n",
    "        cv2.imwrite(\"resizedimage.png\",resized_image)\n",
    "        cv2.destroyAllWindows()"
   ]
  },
  {
   "cell_type": "markdown",
   "metadata": {},
   "source": [
    "\n",
    "### read csv file"
   ]
  },
  {
   "cell_type": "code",
   "execution_count": null,
   "metadata": {
    "collapsed": true
   },
   "outputs": [],
   "source": []
  }
 ],
 "metadata": {
  "kernelspec": {
   "display_name": "Python 3",
   "language": "python",
   "name": "python3"
  },
  "language_info": {
   "codemirror_mode": {
    "name": "ipython",
    "version": 2
   },
   "file_extension": ".py",
   "mimetype": "text/x-python",
   "name": "python",
   "nbconvert_exporter": "python",
   "pygments_lexer": "ipython2",
   "version": "2.7.13"
  }
 },
 "nbformat": 4,
 "nbformat_minor": 2
}
